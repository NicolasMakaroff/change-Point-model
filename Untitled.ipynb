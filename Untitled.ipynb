{
 "cells": [
  {
   "cell_type": "markdown",
   "metadata": {},
   "source": [
    "# Change point detection : Multipoint ruptures"
   ]
  },
  {
   "cell_type": "markdown",
   "metadata": {},
   "source": [
    "In order to detect many change point in the SNCF TER data we will use sequential methods such as dynamic programming."
   ]
  },
  {
   "cell_type": "markdown",
   "metadata": {},
   "source": [
    "To do so we will follow the description given in XXX. "
   ]
  },
  {
   "cell_type": "markdown",
   "metadata": {},
   "source": [
    "**ToDo: Write short mathematical description.**"
   ]
  },
  {
   "cell_type": "markdown",
   "metadata": {},
   "source": [
    "We first start by using a Lasso method to approximate the disared data. The data is then seen as a constant function define by K segments with $K\\in\\mathbb{N}$. We add to this constant some noise $\\sim\\mathcal{N}(0,\\sigma^2)$."
   ]
  },
  {
   "cell_type": "markdown",
   "metadata": {},
   "source": [
    "**ToDo:** Description `Lasso`"
   ]
  },
  {
   "cell_type": "code",
   "execution_count": 97,
   "metadata": {},
   "outputs": [],
   "source": [
    "import numpy as np\n",
    "from matplotlib import pyplot as plt\n",
    "plt.style.use('ggplot')"
   ]
  },
  {
   "cell_type": "code",
   "execution_count": 112,
   "metadata": {},
   "outputs": [],
   "source": [
    "def L1_Lasso(data,start,end,lambda_=1):\n",
    "    \"\"\"\n",
    "    Function the realize a lasso cost estimation of the $\\beta$ coefficient $\\beta = (\\beta_1, \\ldots, \\beta_n)$.\n",
    "    \n",
    "    Params:\n",
    "    =======\n",
    "        data (array_like): data used to fit the $\\beta$ coefficient.\n",
    "        start (int): beginning of the segment to estimate\n",
    "        end (int): end of the segment on which we ake the estimation\n",
    "        lambda_ (float): constaint for smoother difference between successive $\\beta_i$.\n",
    "        \n",
    "    Return:\n",
    "    =======\n",
    "        The cost value on this segment.\n",
    "    \"\"\"\n",
    "    if data.ndim == 1:\n",
    "        data.reshape(-1,1)\n",
    "    if (end - start) < 2:          # threshold to avoid empty segment\n",
    "        raise 'EmptySegment'\n",
    "    segment = data[start:end]\n",
    "    median = np.median(segment,axis=0)\n",
    "    cost = lambda_*np.sum(np.abs(segment - median))\n",
    "    return cost"
   ]
  },
  {
   "cell_type": "code",
   "execution_count": 118,
   "metadata": {},
   "outputs": [],
   "source": [
    "from functools import lru_cache\n",
    "\n",
    "def DynamicProg(data, changepoints,lambda_=1, dist_segment=4):\n",
    "    \"\"\"\n",
    "    Find the best subsegment that minimize the cost.\n",
    "    \n",
    "    Params:\n",
    "    =======\n",
    "        data (array_like): data where we search for change-point.\n",
    "        dist_segment (int): to create a subsample of data every to $dist_segment$.\n",
    "        changepoints (int): the number of change-point\n",
    "        lambda_ (float): constaint for smoother difference between successive $\\beta_i$.\n",
    "        \n",
    "    Return:\n",
    "    =======\n",
    "        a list of change-point.\n",
    "    \"\"\"\n",
    "    \n",
    "    def recursive(start, end, changepoints, dist_segment=5):\n",
    "        dist_seg = dist_segment\n",
    "        # Cas de base\n",
    "        if changepoints == 0:\n",
    "\n",
    "            return {(start,end): L1_Lasso(data,start,end,lambda_)}\n",
    "\n",
    "        # recurrence\n",
    "        else:\n",
    "            dist_segment_list = [i for i in range(start,end) if i%dist_segment==0]\n",
    "\n",
    "            changepts = []        #list of possible change-points\n",
    "            for k in dist_segment_list:\n",
    "                nbs = k - start\n",
    "                # check for segment availibility\n",
    "                if changepoints > (nbs//dist_seg) :\n",
    "                    continue\n",
    "                if changepoints * np.ceil(2/dist_seg)*dist_seg + 2 > nbs:\n",
    "                    continue\n",
    "                if (end - k) >= 2:\n",
    "                    changepts.append(k)\n",
    "\n",
    "            # recursive call on both end : right and left side of the cut\n",
    "            selected = []\n",
    "            for i in changepts:\n",
    "                left_side = recursive(start, i,changepoints-1)\n",
    "                right_side = recursive(i, end,0)\n",
    "\n",
    "                tmp = dict(left_side)\n",
    "                tmp[(i,end)] = right_side[(i,end)]\n",
    "                selected.append(tmp)\n",
    "                \n",
    "            return min(selected,key= lambda d: sum(d.values()))\n",
    "        \n",
    "    start = 0\n",
    "    end = data.shape[0]\n",
    "    points = recursive(start,end,changepoints)\n",
    "    return sorted(idx for v, idx in points.keys())"
   ]
  },
  {
   "cell_type": "code",
   "execution_count": 119,
   "metadata": {},
   "outputs": [
    {
     "data": {
      "text/html": [
       "<div>\n",
       "<style scoped>\n",
       "    .dataframe tbody tr th:only-of-type {\n",
       "        vertical-align: middle;\n",
       "    }\n",
       "\n",
       "    .dataframe tbody tr th {\n",
       "        vertical-align: top;\n",
       "    }\n",
       "\n",
       "    .dataframe thead th {\n",
       "        text-align: right;\n",
       "    }\n",
       "</style>\n",
       "<table border=\"1\" class=\"dataframe\">\n",
       "  <thead>\n",
       "    <tr style=\"text-align: right;\">\n",
       "      <th></th>\n",
       "      <th>ID</th>\n",
       "      <th>Date</th>\n",
       "      <th>Région</th>\n",
       "      <th>Nombre de trains programmés</th>\n",
       "      <th>Nombre de trains ayant circulé</th>\n",
       "      <th>Nombre de trains annulés</th>\n",
       "      <th>Nombre de trains en retard à l'arrivée</th>\n",
       "      <th>Taux de régularité</th>\n",
       "      <th>Nombre de trains à l'heure pour un train en retard à l'arrivée</th>\n",
       "      <th>Commentaires</th>\n",
       "    </tr>\n",
       "  </thead>\n",
       "  <tbody>\n",
       "    <tr>\n",
       "      <th>0</th>\n",
       "      <td>TER_2</td>\n",
       "      <td>2013-01</td>\n",
       "      <td>Aquitaine</td>\n",
       "      <td>8099.0</td>\n",
       "      <td>8014.0</td>\n",
       "      <td>85.0</td>\n",
       "      <td>731.0</td>\n",
       "      <td>90.9</td>\n",
       "      <td>10.0</td>\n",
       "      <td>Intempéries à partir du 20 janvier.</td>\n",
       "    </tr>\n",
       "    <tr>\n",
       "      <th>1</th>\n",
       "      <td>TER_4</td>\n",
       "      <td>2013-01</td>\n",
       "      <td>Basse Normandie</td>\n",
       "      <td>3331.0</td>\n",
       "      <td>3297.0</td>\n",
       "      <td>34.0</td>\n",
       "      <td>311.0</td>\n",
       "      <td>90.6</td>\n",
       "      <td>9.6</td>\n",
       "      <td>Grand froid et épisode neigeux les semaines 3 ...</td>\n",
       "    </tr>\n",
       "    <tr>\n",
       "      <th>2</th>\n",
       "      <td>TER_5</td>\n",
       "      <td>2013-01</td>\n",
       "      <td>Bourgogne</td>\n",
       "      <td>8400.0</td>\n",
       "      <td>8332.0</td>\n",
       "      <td>68.0</td>\n",
       "      <td>625.0</td>\n",
       "      <td>92.5</td>\n",
       "      <td>12.3</td>\n",
       "      <td>Un mois de janvier qui surpasse les six exerci...</td>\n",
       "    </tr>\n",
       "    <tr>\n",
       "      <th>3</th>\n",
       "      <td>TER_19</td>\n",
       "      <td>2013-01</td>\n",
       "      <td>Provence Alpes Côte d'Azur</td>\n",
       "      <td>13956.0</td>\n",
       "      <td>13219.0</td>\n",
       "      <td>737.0</td>\n",
       "      <td>1816.0</td>\n",
       "      <td>86.3</td>\n",
       "      <td>6.3</td>\n",
       "      <td>NaN</td>\n",
       "    </tr>\n",
       "    <tr>\n",
       "      <th>4</th>\n",
       "      <td>TER_20</td>\n",
       "      <td>2013-01</td>\n",
       "      <td>Rhône Alpes</td>\n",
       "      <td>31438.0</td>\n",
       "      <td>30779.0</td>\n",
       "      <td>659.0</td>\n",
       "      <td>3552.0</td>\n",
       "      <td>88.5</td>\n",
       "      <td>7.7</td>\n",
       "      <td>NaN</td>\n",
       "    </tr>\n",
       "  </tbody>\n",
       "</table>\n",
       "</div>"
      ],
      "text/plain": [
       "       ID     Date                      Région  Nombre de trains programmés  \\\n",
       "0   TER_2  2013-01                   Aquitaine                       8099.0   \n",
       "1   TER_4  2013-01             Basse Normandie                       3331.0   \n",
       "2   TER_5  2013-01                   Bourgogne                       8400.0   \n",
       "3  TER_19  2013-01  Provence Alpes Côte d'Azur                      13956.0   \n",
       "4  TER_20  2013-01                 Rhône Alpes                      31438.0   \n",
       "\n",
       "   Nombre de trains ayant circulé  Nombre de trains annulés  \\\n",
       "0                          8014.0                      85.0   \n",
       "1                          3297.0                      34.0   \n",
       "2                          8332.0                      68.0   \n",
       "3                         13219.0                     737.0   \n",
       "4                         30779.0                     659.0   \n",
       "\n",
       "   Nombre de trains en retard à l'arrivée  Taux de régularité  \\\n",
       "0                                   731.0                90.9   \n",
       "1                                   311.0                90.6   \n",
       "2                                   625.0                92.5   \n",
       "3                                  1816.0                86.3   \n",
       "4                                  3552.0                88.5   \n",
       "\n",
       "   Nombre de trains à l'heure pour un train en retard à l'arrivée  \\\n",
       "0                                               10.0                \n",
       "1                                                9.6                \n",
       "2                                               12.3                \n",
       "3                                                6.3                \n",
       "4                                                7.7                \n",
       "\n",
       "                                        Commentaires  \n",
       "0                Intempéries à partir du 20 janvier.  \n",
       "1  Grand froid et épisode neigeux les semaines 3 ...  \n",
       "2  Un mois de janvier qui surpasse les six exerci...  \n",
       "3                                                NaN  \n",
       "4                                                NaN  "
      ]
     },
     "execution_count": 119,
     "metadata": {},
     "output_type": "execute_result"
    }
   ],
   "source": [
    "import pandas\n",
    "fichier=\"regularite-mensuelle-ter.csv\"\n",
    "\n",
    "#df = pandas.read_csv(fichier,sep=\";\")\n",
    "df=pandas.read_table(fichier,sep=\";\")\n",
    "df.head(5)  #  afficher les 5 premières lignes"
   ]
  },
  {
   "cell_type": "code",
   "execution_count": 138,
   "metadata": {},
   "outputs": [],
   "source": [
    "signal = df[df['Région']=='Centre']['Nombre de trains en retard à l\\'arrivée'].to_numpy()\n",
    "\n",
    "result = DynamicProg(signal,10,lambda_=1)"
   ]
  },
  {
   "cell_type": "code",
   "execution_count": 139,
   "metadata": {},
   "outputs": [
    {
     "data": {
      "image/png": "[encoded data removed]",
      "text/plain": [
       "<Figure size 432x288 with 1 Axes>"
      ]
     },
     "metadata": {},
     "output_type": "display_data"
    }
   ],
   "source": [
    "plt.plot(signal)\n",
    "for i in result:\n",
    "    plt.vlines(i,ymin=400, ymax=1500)"
   ]
  },
  {
   "cell_type": "markdown",
   "metadata": {},
   "source": [
    "We can also try a kernel method of change point detection."
   ]
  },
  {
   "cell_type": "code",
   "execution_count": 171,
   "metadata": {},
   "outputs": [],
   "source": [
    "from sklearn.metrics.pairwise import polynomial_kernel\n",
    "\n",
    "def LinearKernel(x,y):\n",
    "    return np.abs(x-y)\n",
    "\n",
    "def PolyKernel(x,y,degree=0):\n",
    "    return polynomial_kernel(x,y,degree)"
   ]
  },
  {
   "cell_type": "code",
   "execution_count": 172,
   "metadata": {},
   "outputs": [],
   "source": [
    "def Gram(x,kernel):\n",
    "    \"\"\"\n",
    "    Compute a Gram matrix using the specified kernel.\n",
    "    \n",
    "    Params:\n",
    "    =======\n",
    "        x (array_like): vector of data\n",
    "        kernel (function): a kernel method $k(x,y)$\n",
    "    \n",
    "    Return:\n",
    "    =======\n",
    "        The Gram matrix.\n",
    "    \"\"\"\n",
    "    n = x.shape[0]\n",
    "    x = np.linspace(0,n-1,n).astype(np.int8)\n",
    "    y = np.linspace(0,n-1,n).astype(np.int8)\n",
    "    xx,yy = np.meshgrid(x[x],x[y])\n",
    "    Gram = kernel(xx,yy)\n",
    "    return Gram"
   ]
  },
  {
   "cell_type": "code",
   "execution_count": 176,
   "metadata": {},
   "outputs": [],
   "source": [
    "m = Gram(np.linspace(1,10,10),PolyKernel)"
   ]
  },
  {
   "cell_type": "code",
   "execution_count": 180,
   "metadata": {},
   "outputs": [],
   "source": [
    "def CostMatrix(matrix,nb_segment):\n",
    "    \"\"\"\n",
    "    \n",
    "    Params:\n",
    "    =======\n",
    "        matrix (array_like): a square matrix\n",
    "    \"\"\"\n",
    "    \n",
    "    n = matrix.shape[0]\n",
    "    cost_matrix = np.zeros([nb_segment,n])\n",
    "    index_matrix = np.zeros([nb_segment,n])\n",
    "    for i in range(0,n):\n",
    "        cost_matrix[1,i] = matrix[0,i]\n",
    "    for i in range(1,nb_segment):\n",
    "        for j in range(i,n):\n",
    "            min_ = np.min(cost_matrix[i-1,:j] + matrix[:j,j])\n",
    "            index_matrix[i,j], cost_matrix[i,j] = min_, min_\n",
    "    return index_matrix, cost_matrix"
   ]
  },
  {
   "cell_type": "code",
   "execution_count": 183,
   "metadata": {},
   "outputs": [],
   "source": [
    "c,i = CostMatrix(m,4)"
   ]
  },
  {
   "cell_type": "code",
   "execution_count": 207,
   "metadata": {},
   "outputs": [],
   "source": [
    "def BackTracking(cost_matrix,index_matrix,nb_segment):\n",
    "    t = np.zeros(nb_segment)\n",
    "    p = index_matrix.shape[0]\n",
    "    for i in range(nb_segment):\n",
    "        p = index_matrix[(nb_segment-1)-i,p].astype(np.int8)\n",
    "    return t"
   ]
  },
  {
   "cell_type": "code",
   "execution_count": 208,
   "metadata": {},
   "outputs": [
    {
     "data": {
      "text/plain": [
       "array([0., 0., 0., 0.])"
      ]
     },
     "execution_count": 208,
     "metadata": {},
     "output_type": "execute_result"
    }
   ],
   "source": [
    "BackTracking(c,i,4)"
   ]
  },
  {
   "cell_type": "code",
   "execution_count": null,
   "metadata": {},
   "outputs": [],
   "source": [
    "def SegmentCosts(x,gram_matrix):\n",
    "    n = x.shape[0]\n",
    "    gamma = np.sum(gram_matrix)\n",
    "    T = np.sum(np.diag(gram_matrix))\n",
    "    S = np.zeros([n,n])\n",
    "    for i in range(n):\n",
    "        S[0,i] = T[i] - gamma[i,i]/i"
   ]
  }
 ],
 "metadata": {
  "kernelspec": {
   "display_name": "Python 3",
   "language": "python",
   "name": "python3"
  },
  "language_info": {
   "codemirror_mode": {
    "name": "ipython",
    "version": 3
   },
   "file_extension": ".py",
   "mimetype": "text/x-python",
   "name": "python",
   "nbconvert_exporter": "python",
   "pygments_lexer": "ipython3",
   "version": "3.7.4"
  }
 },
 "nbformat": 4,
 "nbformat_minor": 4
}
